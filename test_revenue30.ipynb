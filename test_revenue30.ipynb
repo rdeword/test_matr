{
 "cells": [
  {
   "cell_type": "code",
   "execution_count": 24,
   "id": "99906c53-e277-461c-a8e8-5fb4257cb0a6",
   "metadata": {},
   "outputs": [
    {
     "name": "stdout",
     "output_type": "stream",
     "text": [
      "Предполагаемый доход на 30-й день: 8880.19\n",
      "Увеличение дохода с 0-го дня к 30-му: в 2.05 раза\n",
      "Увеличение дохода с 1-го дня к 30-му: в 5.04 раза\n",
      "Увеличение дохода с 3-го дня к 30-му: в 13.11 раза\n"
     ]
    }
   ],
   "source": [
    "import pandas as pd\n",
    "import numpy as np\n",
    "\n",
    "ad_revenue_df = pd.read_excel('https://github.com/rdeword/test_matr/raw/main/Ad_revenue.xlsx', sheet_name='ad revenue')\n",
    "\n",
    "#даты\n",
    "ad_revenue_df['install_date'] = pd.to_datetime(ad_revenue_df['install_date'])\n",
    "ad_revenue_df['event_date'] = pd.to_datetime(ad_revenue_df['event_date'])\n",
    "ad_revenue_df['days_since_install'] = (ad_revenue_df['event_date'] - ad_revenue_df['install_date']).dt.days\n",
    "\n",
    "#группировка и суммирование\n",
    "daily_revenue = ad_revenue_df.groupby('days_since_install')['event_revenue'].sum()\n",
    "\n",
    "#рост с замедлением\n",
    "growth_rate = 1.1  # 10% ежедневного прироста\n",
    "revenue_day_3 = days_0_1_3[3] if not np.isnan(days_0_1_3[3]) else 0\n",
    "predicted_revenue_day_30 = revenue_day_3 * (growth_rate ** (30 - 3))\n",
    "\n",
    "#рассчёт увеличения дохода с 0,1,3 дня к 30\n",
    "increase_0 = predicted_revenue_day_30 / days_0_1_3[0]\n",
    "increase_1 = predicted_revenue_day_30 / days_0_1_3[1]\n",
    "increase_3 = predicted_revenue_day_30 / days_0_1_3[3]\n",
    "\n",
    "#результаты\n",
    "print(f\"Предполагаемый доход на 30-й день: {predicted_revenue_day_30:.2f}\")\n",
    "print(f\"Увеличение дохода с 0-го дня к 30-му: в {increase_0:.2f} раза\")\n",
    "print(f\"Увеличение дохода с 1-го дня к 30-му: в {increase_1:.2f} раза\")\n",
    "print(f\"Увеличение дохода с 3-го дня к 30-му: в {increase_3:.2f} раза\")\n"
   ]
  }
 ],
 "metadata": {
  "kernelspec": {
   "display_name": "Python 3 (ipykernel)",
   "language": "python",
   "name": "python3"
  },
  "language_info": {
   "codemirror_mode": {
    "name": "ipython",
    "version": 3
   },
   "file_extension": ".py",
   "mimetype": "text/x-python",
   "name": "python",
   "nbconvert_exporter": "python",
   "pygments_lexer": "ipython3",
   "version": "3.9.5"
  }
 },
 "nbformat": 4,
 "nbformat_minor": 5
}
